{
 "cells": [
  {
   "cell_type": "code",
   "execution_count": 78,
   "id": "75382187",
   "metadata": {},
   "outputs": [],
   "source": [
    "import os\n",
    "import re\n",
    "import pickle\n",
    "import numpy as np\n",
    "import pandas as pd\n",
    "import matplotlib.pyplot as plt"
   ]
  },
  {
   "cell_type": "code",
   "execution_count": 79,
   "id": "39431b6b",
   "metadata": {},
   "outputs": [],
   "source": [
    "total_files=list()\n",
    "cleaned_files=list()\n",
    "ids=list()"
   ]
  },
  {
   "cell_type": "code",
   "execution_count": 80,
   "id": "6ac782b6",
   "metadata": {},
   "outputs": [],
   "source": [
    "for file in os.listdir(\"light_curves_fausnaugh/light_curves_fausnaugh\"):\n",
    "    total_files.append(file)\n",
    "    if bool(re.search(r\"\\blc_\\d+[a-zA-Z]{1,5}_cleaned\\b\", file)):\n",
    "        cleaned_files.append(file)\n",
    "        ids.extend(re.findall(\"_(.*?)_cleaned\", file))   "
   ]
  },
  {
   "cell_type": "code",
   "execution_count": 81,
   "id": "e0893fbd",
   "metadata": {},
   "outputs": [
    {
     "name": "stdout",
     "output_type": "stream",
     "text": [
      "3836 3857\n"
     ]
    }
   ],
   "source": [
    "print(len(cleaned_files), len(total_files))"
   ]
  },
  {
   "cell_type": "code",
   "execution_count": 82,
   "id": "77b016ff",
   "metadata": {},
   "outputs": [],
   "source": [
    "diff = set(total_files)-set(cleaned_files)"
   ]
  },
  {
   "cell_type": "code",
   "execution_count": 83,
   "id": "746a3205",
   "metadata": {},
   "outputs": [
    {
     "data": {
      "text/plain": [
       "{'lc_2018fhw_detrended_cleaned',\n",
       " 'lc_2018fvi_detrended_cleaned',\n",
       " 'lc_2018hib_detrended_cleaned',\n",
       " 'lc_2018hss_detrended_cleaned',\n",
       " 'lc_2018kfv_detrended_cleaned',\n",
       " 'lc_2019mue_detrended-detrended_cleaned',\n",
       " 'lc_2019mue_detrended_cleaned',\n",
       " 'lc_2019pnw_detrended_cleaned',\n",
       " 'lc_2019prw_detrended_cleaned',\n",
       " 'lc_2019ptv_detrended_cleaned',\n",
       " 'lc_2019qmm_detrended_cleaned',\n",
       " 'lc_2019qsc_detrended_cleaned',\n",
       " 'lc_2019ulr_detrended_cleaned',\n",
       " 'lc_2020kbq_detrended_cleaned',\n",
       " 'lc_2020npk_detrended_cleaned',\n",
       " 'lc_2020to_detrended_cleaned',\n",
       " 'lc_2020wd_detrended_cleaned',\n",
       " 'lc_2020zjf_detrended_cleaned',\n",
       " 'lc_2021bix_detrended_cleaned',\n",
       " 'lc_2021caf_detrended_cleaned',\n",
       " 'lc_GRB191016a_cleaned'}"
      ]
     },
     "execution_count": 83,
     "metadata": {},
     "output_type": "execute_result"
    }
   ],
   "source": [
    "diff"
   ]
  },
  {
   "cell_type": "code",
   "execution_count": 84,
   "id": "e36ab48e",
   "metadata": {},
   "outputs": [
    {
     "data": {
      "text/plain": [
       "3836"
      ]
     },
     "execution_count": 84,
     "metadata": {},
     "output_type": "execute_result"
    }
   ],
   "source": [
    "len(ids)"
   ]
  },
  {
   "cell_type": "code",
   "execution_count": null,
   "id": "1a67a843",
   "metadata": {},
   "outputs": [],
   "source": [
    " "
   ]
  },
  {
   "cell_type": "code",
   "execution_count": 58,
   "id": "3bb1574b",
   "metadata": {},
   "outputs": [],
   "source": []
  },
  {
   "cell_type": "code",
   "execution_count": 37,
   "id": "0e97e2df",
   "metadata": {},
   "outputs": [],
   "source": []
  },
  {
   "cell_type": "code",
   "execution_count": 59,
   "id": "239bf7c3",
   "metadata": {},
   "outputs": [],
   "source": []
  },
  {
   "cell_type": "code",
   "execution_count": null,
   "id": "85330bb7",
   "metadata": {},
   "outputs": [],
   "source": []
  },
  {
   "cell_type": "code",
   "execution_count": null,
   "id": "19b131f5",
   "metadata": {},
   "outputs": [],
   "source": []
  }
 ],
 "metadata": {
  "kernelspec": {
   "display_name": "Python 3",
   "language": "python",
   "name": "python3"
  },
  "language_info": {
   "codemirror_mode": {
    "name": "ipython",
    "version": 3
   },
   "file_extension": ".py",
   "mimetype": "text/x-python",
   "name": "python",
   "nbconvert_exporter": "python",
   "pygments_lexer": "ipython3",
   "version": "3.8.8"
  }
 },
 "nbformat": 4,
 "nbformat_minor": 5
}
