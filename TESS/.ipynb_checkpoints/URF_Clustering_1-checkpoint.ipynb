{
 "cells": [
  {
   "cell_type": "code",
   "execution_count": 2,
   "id": "b36c000a",
   "metadata": {},
   "outputs": [
    {
     "name": "stdout",
     "output_type": "stream",
     "text": [
      "Populating the interactive namespace from numpy and matplotlib\n"
     ]
    }
   ],
   "source": [
    "%pylab inline\n",
    "import numpy as np\n",
    "import sklearn\n",
    "#from sklearn.preprocessing import Imputer\n",
    "import matplotlib.pyplot as plt\n",
    "\n",
    "from sklearn.ensemble import RandomForestClassifier\n",
    "import pandas as pd\n",
    "import pickle"
   ]
  },
  {
   "cell_type": "code",
   "execution_count": 3,
   "id": "9c15fece",
   "metadata": {},
   "outputs": [],
   "source": [
    "def read_data_samples():\n",
    "    with open('data/lightcurves.pickle', 'rb') as file:\n",
    "        lightcurves = pickle.load(file)\n",
    "    data = lightcurves\n",
    "    return data"
   ]
  },
  {
   "cell_type": "code",
   "execution_count": 5,
   "id": "dd37f48b",
   "metadata": {},
   "outputs": [],
   "source": [
    "data = read_data_samples()\n",
    "pca = data['pca']\n",
    "flux = pca['flux_pca']\n",
    "meta_data = pca['metadata_pca']\n",
    "phase = data['phase']"
   ]
  },
  {
   "cell_type": "code",
   "execution_count": 6,
   "id": "37a3a681",
   "metadata": {},
   "outputs": [
    {
     "name": "stdout",
     "output_type": "stream",
     "text": [
      "(3873, 300)\n"
     ]
    }
   ],
   "source": [
    "print(flux.shape)"
   ]
  },
  {
   "cell_type": "code",
   "execution_count": 7,
   "id": "ef71760f",
   "metadata": {},
   "outputs": [],
   "source": [
    "def return_synthetic_data(X):\n",
    "    \"\"\"\n",
    "    The function returns a matrix with the same dimensions as X but with synthetic data\n",
    "    based on the marginal distributions of its featues\n",
    "    \"\"\"\n",
    "    features = X.shape[1]\n",
    "    X_syn = numpy.zeros(X.shape)\n",
    "\n",
    "    for i in range(features):\n",
    "        obs_vec = X[:,i]\n",
    "        syn_vec = numpy.random.choice(obs_vec, len(obs_vec)) # here we chose the synthetic data to match the marginal distribution of the real data\n",
    "        X_syn[:,i] += syn_vec\n",
    "\n",
    "    return X_syn\n",
    "\n",
    "X_syn = return_synthetic_data(flux)"
   ]
  },
  {
   "cell_type": "code",
   "execution_count": 8,
   "id": "1b654696",
   "metadata": {},
   "outputs": [
    {
     "name": "stdout",
     "output_type": "stream",
     "text": [
      "[[-0.33704443  0.65279985 -0.36044209 ...  0.44369392 -0.47548489\n",
      "   0.77078119]\n",
      " [ 0.86891119 -0.87163857 -0.92417214 ...  1.04968319  0.54535722\n",
      "  -0.97547442]\n",
      " [ 0.47452548  0.66511791  0.10078947 ...  0.89876991  0.9652316\n",
      "   0.23094276]\n",
      " ...\n",
      " [ 0.77554854  0.96288974  1.72694259 ...  1.22241034  0.55150624\n",
      "   1.25606603]\n",
      " [ 0.71856696  0.2483269   1.04809968 ... -0.28674457  0.3828325\n",
      "  -0.01805433]\n",
      " [-0.35345306  0.25634306  1.74926833 ... -0.39356529 -0.6652221\n",
      "   1.09731542]]\n"
     ]
    }
   ],
   "source": [
    "print(X_syn)"
   ]
  },
  {
   "cell_type": "code",
   "execution_count": null,
   "id": "d2bc0846",
   "metadata": {},
   "outputs": [],
   "source": []
  }
 ],
 "metadata": {
  "kernelspec": {
   "display_name": "Python 3",
   "language": "python",
   "name": "python3"
  },
  "language_info": {
   "codemirror_mode": {
    "name": "ipython",
    "version": 3
   },
   "file_extension": ".py",
   "mimetype": "text/x-python",
   "name": "python",
   "nbconvert_exporter": "python",
   "pygments_lexer": "ipython3",
   "version": "3.8.8"
  }
 },
 "nbformat": 4,
 "nbformat_minor": 5
}
